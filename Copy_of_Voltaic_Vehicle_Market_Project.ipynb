{
  "cells": [
    {
      "cell_type": "markdown",
      "metadata": {
        "id": "view-in-github",
        "colab_type": "text"
      },
      "source": [
        "<a href=\"https://colab.research.google.com/github/neharaju27/INDIAN-EV-MARKET/blob/main/Copy_of_Voltaic_Vehicle_Market_Project.ipynb\" target=\"_parent\"><img src=\"https://colab.research.google.com/assets/colab-badge.svg\" alt=\"Open In Colab\"/></a>"
      ]
    },
    {
      "cell_type": "code",
      "execution_count": null,
      "metadata": {
        "colab": {
          "base_uri": "https://localhost:8080/"
        },
        "id": "6zdftVqyLTvX",
        "outputId": "c2d818e7-3239-4dbc-e605-44e3360d890c"
      },
      "outputs": [
        {
          "output_type": "stream",
          "name": "stdout",
          "text": [
            "Collecting streamlit\n",
            "  Downloading streamlit-1.42.0-py2.py3-none-any.whl.metadata (8.9 kB)\n",
            "Requirement already satisfied: altair<6,>=4.0 in /usr/local/lib/python3.11/dist-packages (from streamlit) (5.5.0)\n",
            "Requirement already satisfied: blinker<2,>=1.0.0 in /usr/local/lib/python3.11/dist-packages (from streamlit) (1.9.0)\n",
            "Requirement already satisfied: cachetools<6,>=4.0 in /usr/local/lib/python3.11/dist-packages (from streamlit) (5.5.1)\n",
            "Requirement already satisfied: click<9,>=7.0 in /usr/local/lib/python3.11/dist-packages (from streamlit) (8.1.8)\n",
            "Requirement already satisfied: numpy<3,>=1.23 in /usr/local/lib/python3.11/dist-packages (from streamlit) (1.26.4)\n",
            "Requirement already satisfied: packaging<25,>=20 in /usr/local/lib/python3.11/dist-packages (from streamlit) (24.2)\n",
            "Requirement already satisfied: pandas<3,>=1.4.0 in /usr/local/lib/python3.11/dist-packages (from streamlit) (2.2.2)\n",
            "Requirement already satisfied: pillow<12,>=7.1.0 in /usr/local/lib/python3.11/dist-packages (from streamlit) (11.1.0)\n",
            "Requirement already satisfied: protobuf<6,>=3.20 in /usr/local/lib/python3.11/dist-packages (from streamlit) (4.25.6)\n",
            "Requirement already satisfied: pyarrow>=7.0 in /usr/local/lib/python3.11/dist-packages (from streamlit) (17.0.0)\n",
            "Requirement already satisfied: requests<3,>=2.27 in /usr/local/lib/python3.11/dist-packages (from streamlit) (2.32.3)\n",
            "Requirement already satisfied: rich<14,>=10.14.0 in /usr/local/lib/python3.11/dist-packages (from streamlit) (13.9.4)\n",
            "Requirement already satisfied: tenacity<10,>=8.1.0 in /usr/local/lib/python3.11/dist-packages (from streamlit) (9.0.0)\n",
            "Requirement already satisfied: toml<2,>=0.10.1 in /usr/local/lib/python3.11/dist-packages (from streamlit) (0.10.2)\n",
            "Requirement already satisfied: typing-extensions<5,>=4.4.0 in /usr/local/lib/python3.11/dist-packages (from streamlit) (4.12.2)\n",
            "Collecting watchdog<7,>=2.1.5 (from streamlit)\n",
            "  Downloading watchdog-6.0.0-py3-none-manylinux2014_x86_64.whl.metadata (44 kB)\n",
            "\u001b[2K     \u001b[90m━━━━━━━━━━━━━━━━━━━━━━━━━━━━━━━━━━━━━━━━\u001b[0m \u001b[32m44.3/44.3 kB\u001b[0m \u001b[31m1.5 MB/s\u001b[0m eta \u001b[36m0:00:00\u001b[0m\n",
            "\u001b[?25hRequirement already satisfied: gitpython!=3.1.19,<4,>=3.0.7 in /usr/local/lib/python3.11/dist-packages (from streamlit) (3.1.44)\n",
            "Collecting pydeck<1,>=0.8.0b4 (from streamlit)\n",
            "  Downloading pydeck-0.9.1-py2.py3-none-any.whl.metadata (4.1 kB)\n",
            "Requirement already satisfied: tornado<7,>=6.0.3 in /usr/local/lib/python3.11/dist-packages (from streamlit) (6.4.2)\n",
            "Requirement already satisfied: jinja2 in /usr/local/lib/python3.11/dist-packages (from altair<6,>=4.0->streamlit) (3.1.5)\n",
            "Requirement already satisfied: jsonschema>=3.0 in /usr/local/lib/python3.11/dist-packages (from altair<6,>=4.0->streamlit) (4.23.0)\n",
            "Requirement already satisfied: narwhals>=1.14.2 in /usr/local/lib/python3.11/dist-packages (from altair<6,>=4.0->streamlit) (1.25.1)\n",
            "Requirement already satisfied: gitdb<5,>=4.0.1 in /usr/local/lib/python3.11/dist-packages (from gitpython!=3.1.19,<4,>=3.0.7->streamlit) (4.0.12)\n",
            "Requirement already satisfied: python-dateutil>=2.8.2 in /usr/local/lib/python3.11/dist-packages (from pandas<3,>=1.4.0->streamlit) (2.8.2)\n",
            "Requirement already satisfied: pytz>=2020.1 in /usr/local/lib/python3.11/dist-packages (from pandas<3,>=1.4.0->streamlit) (2025.1)\n",
            "Requirement already satisfied: tzdata>=2022.7 in /usr/local/lib/python3.11/dist-packages (from pandas<3,>=1.4.0->streamlit) (2025.1)\n",
            "Requirement already satisfied: charset-normalizer<4,>=2 in /usr/local/lib/python3.11/dist-packages (from requests<3,>=2.27->streamlit) (3.4.1)\n",
            "Requirement already satisfied: idna<4,>=2.5 in /usr/local/lib/python3.11/dist-packages (from requests<3,>=2.27->streamlit) (3.10)\n",
            "Requirement already satisfied: urllib3<3,>=1.21.1 in /usr/local/lib/python3.11/dist-packages (from requests<3,>=2.27->streamlit) (2.3.0)\n",
            "Requirement already satisfied: certifi>=2017.4.17 in /usr/local/lib/python3.11/dist-packages (from requests<3,>=2.27->streamlit) (2025.1.31)\n",
            "Requirement already satisfied: markdown-it-py>=2.2.0 in /usr/local/lib/python3.11/dist-packages (from rich<14,>=10.14.0->streamlit) (3.0.0)\n",
            "Requirement already satisfied: pygments<3.0.0,>=2.13.0 in /usr/local/lib/python3.11/dist-packages (from rich<14,>=10.14.0->streamlit) (2.18.0)\n",
            "Requirement already satisfied: smmap<6,>=3.0.1 in /usr/local/lib/python3.11/dist-packages (from gitdb<5,>=4.0.1->gitpython!=3.1.19,<4,>=3.0.7->streamlit) (5.0.2)\n",
            "Requirement already satisfied: MarkupSafe>=2.0 in /usr/local/lib/python3.11/dist-packages (from jinja2->altair<6,>=4.0->streamlit) (3.0.2)\n",
            "Requirement already satisfied: attrs>=22.2.0 in /usr/local/lib/python3.11/dist-packages (from jsonschema>=3.0->altair<6,>=4.0->streamlit) (25.1.0)\n",
            "Requirement already satisfied: jsonschema-specifications>=2023.03.6 in /usr/local/lib/python3.11/dist-packages (from jsonschema>=3.0->altair<6,>=4.0->streamlit) (2024.10.1)\n",
            "Requirement already satisfied: referencing>=0.28.4 in /usr/local/lib/python3.11/dist-packages (from jsonschema>=3.0->altair<6,>=4.0->streamlit) (0.36.2)\n",
            "Requirement already satisfied: rpds-py>=0.7.1 in /usr/local/lib/python3.11/dist-packages (from jsonschema>=3.0->altair<6,>=4.0->streamlit) (0.22.3)\n",
            "Requirement already satisfied: mdurl~=0.1 in /usr/local/lib/python3.11/dist-packages (from markdown-it-py>=2.2.0->rich<14,>=10.14.0->streamlit) (0.1.2)\n",
            "Requirement already satisfied: six>=1.5 in /usr/local/lib/python3.11/dist-packages (from python-dateutil>=2.8.2->pandas<3,>=1.4.0->streamlit) (1.17.0)\n",
            "Downloading streamlit-1.42.0-py2.py3-none-any.whl (9.6 MB)\n",
            "\u001b[2K   \u001b[90m━━━━━━━━━━━━━━━━━━━━━━━━━━━━━━━━━━━━━━━━\u001b[0m \u001b[32m9.6/9.6 MB\u001b[0m \u001b[31m49.6 MB/s\u001b[0m eta \u001b[36m0:00:00\u001b[0m\n",
            "\u001b[?25hDownloading pydeck-0.9.1-py2.py3-none-any.whl (6.9 MB)\n",
            "\u001b[2K   \u001b[90m━━━━━━━━━━━━━━━━━━━━━━━━━━━━━━━━━━━━━━━━\u001b[0m \u001b[32m6.9/6.9 MB\u001b[0m \u001b[31m81.5 MB/s\u001b[0m eta \u001b[36m0:00:00\u001b[0m\n",
            "\u001b[?25hDownloading watchdog-6.0.0-py3-none-manylinux2014_x86_64.whl (79 kB)\n",
            "\u001b[2K   \u001b[90m━━━━━━━━━━━━━━━━━━━━━━━━━━━━━━━━━━━━━━━━\u001b[0m \u001b[32m79.1/79.1 kB\u001b[0m \u001b[31m6.9 MB/s\u001b[0m eta \u001b[36m0:00:00\u001b[0m\n",
            "\u001b[?25hInstalling collected packages: watchdog, pydeck, streamlit\n",
            "Successfully installed pydeck-0.9.1 streamlit-1.42.0 watchdog-6.0.0\n"
          ]
        }
      ],
      "source": [
        "\n",
        "pip install streamlit"
      ]
    },
    {
      "cell_type": "code",
      "execution_count": null,
      "metadata": {
        "colab": {
          "base_uri": "https://localhost:8080/"
        },
        "id": "1r_OvGHNLVj3",
        "outputId": "6edae4ed-60ae-40cb-e295-724e48fdcda2"
      },
      "outputs": [
        {
          "output_type": "stream",
          "name": "stdout",
          "text": [
            "Writing app.py\n"
          ]
        }
      ],
      "source": [
        "%%writefile app.py"
      ]
    },
    {
      "cell_type": "code",
      "execution_count": null,
      "metadata": {
        "colab": {
          "base_uri": "https://localhost:8080/"
        },
        "id": "IPwe1REDLqne",
        "outputId": "c37b2c0a-e14f-4f8e-fe98-bf8a8729f386"
      },
      "outputs": [
        {
          "output_type": "stream",
          "name": "stdout",
          "text": [
            "35.201.191.121\n"
          ]
        }
      ],
      "source": [
        "! wget -q -O - ipv4.icanhazip.com"
      ]
    },
    {
      "cell_type": "code",
      "execution_count": null,
      "metadata": {
        "colab": {
          "background_save": true,
          "base_uri": "https://localhost:8080/"
        },
        "id": "nEa99Vb2LtwB",
        "outputId": "6819b9ff-3842-4677-8cda-9f8ec40261c3"
      },
      "outputs": [
        {
          "output_type": "stream",
          "name": "stdout",
          "text": [
            "\u001b[1G\u001b[0K⠙\u001b[1G\u001b[0K⠹\n",
            "Collecting usage statistics. To deactivate, set browser.gatherUsageStats to false.\n",
            "\u001b[0m\n",
            "\u001b[1G\u001b[0K⠸\u001b[1G\u001b[0K⠼\u001b[1G\u001b[0K⠴\u001b[1G\u001b[0K⠦\u001b[1G\u001b[0K⠧\u001b[1G\u001b[0K⠇\u001b[1G\u001b[0K⠏\u001b[1G\u001b[0K⠋\u001b[1G\u001b[0K⠙\u001b[1G\u001b[0K⠹\u001b[1G\u001b[0K⠸\u001b[1G\u001b[0K⠼\u001b[1G\u001b[0K\u001b[1G\u001b[0JNeed to install the following packages:\n",
            "localtunnel@2.0.2\n",
            "Ok to proceed? (y) \u001b[20G\u001b[0m\n",
            "\u001b[34m\u001b[1m  You can now view your Streamlit app in your browser.\u001b[0m\n",
            "\u001b[0m\n",
            "\u001b[34m  Local URL: \u001b[0m\u001b[1mhttp://localhost:8501\u001b[0m\n",
            "\u001b[34m  Network URL: \u001b[0m\u001b[1mhttp://172.28.0.12:8501\u001b[0m\n",
            "\u001b[34m  External URL: \u001b[0m\u001b[1mhttp://35.201.191.121:8501\u001b[0m\n",
            "\u001b[0m\n",
            "y\n",
            "\n",
            "\u001b[1G\u001b[0K⠙\u001b[1G\u001b[0K⠹\u001b[1G\u001b[0K⠸\u001b[1G\u001b[0K⠼\u001b[1G\u001b[0K⠴\u001b[1G\u001b[0K⠦\u001b[1G\u001b[0K⠧\u001b[1G\u001b[0K⠇\u001b[1G\u001b[0K⠏\u001b[1G\u001b[0K⠋\u001b[1G\u001b[0K⠙\u001b[1G\u001b[0K⠹\u001b[1G\u001b[0K⠸\u001b[1G\u001b[0K⠼\u001b[1G\u001b[0K⠴\u001b[1G\u001b[0K⠦\u001b[1G\u001b[0K⠧\u001b[1G\u001b[0K⠇\u001b[1G\u001b[0K⠏\u001b[1G\u001b[0K⠋\u001b[1G\u001b[0K⠙\u001b[1G\u001b[0K⠹\u001b[1G\u001b[0K⠸\u001b[1G\u001b[0K⠼\u001b[1G\u001b[0K⠴\u001b[1G\u001b[0K⠦\u001b[1G\u001b[0K⠧\u001b[1G\u001b[0K⠇\u001b[1G\u001b[0K⠏\u001b[1G\u001b[0K⠋\u001b[1G\u001b[0K⠙\u001b[1G\u001b[0K⠹\u001b[1G\u001b[0K⠸\u001b[1G\u001b[0K⠼\u001b[1G\u001b[0K⠴\u001b[1G\u001b[0K⠦\u001b[1G\u001b[0K⠧\u001b[1G\u001b[0K⠇\u001b[1G\u001b[0K⠏\u001b[1G\u001b[0K⠋\u001b[1G\u001b[0K⠙\u001b[1G\u001b[0K⠹\u001b[1G\u001b[0K⠸\u001b[1G\u001b[0K⠼\u001b[1G\u001b[0Kyour url is: https://slick-files-heal.loca.lt\n",
            "2025-02-09 17:20:16.360 Thread 'MainThread': missing ScriptRunContext! This warning can be ignored when running in bare mode.\n",
            "2025-02-09 17:20:47.421 Uncaught app execution\n",
            "Traceback (most recent call last):\n",
            "  File \"/usr/local/lib/python3.11/dist-packages/streamlit/runtime/scriptrunner/exec_code.py\", line 121, in exec_func_with_error_handling\n",
            "    result = func()\n",
            "             ^^^^^^\n",
            "  File \"/usr/local/lib/python3.11/dist-packages/streamlit/runtime/scriptrunner/script_runner.py\", line 591, in code_to_exec\n",
            "    exec(code, module.__dict__)\n",
            "  File \"/content/app.py\", line 71, in <module>\n",
            "    st.subheader(f\"📊 Sales Distribution by Vehicle Category in {selected_year}\")\n",
            "                                                                 ^^^^^^^^^^^^^\n",
            "NameError: name 'selected_year' is not defined\n"
          ]
        }
      ],
      "source": [
        "! streamlit run app.py & npx localtunnel --port 8501"
      ]
    },
    {
      "cell_type": "code",
      "execution_count": null,
      "metadata": {
        "id": "CZf_6ctyLwxI"
      },
      "outputs": [],
      "source": [
        "import streamlit as st\n",
        "import pandas as pd\n",
        "import plotly.express as px\n",
        "\n",
        "# Load datasets\n",
        "def load_data():\n",
        "    ev_maker_data = pd.read_csv('/content/EV Maker by Place.csv')\n",
        "    ev_category_data = pd.read_csv('/content/ev_cat_01-24.csv')\n",
        "    ev_sales_data = pd.read_csv('/content/ev_sales_by_makers_and_cat_15-24.csv')\n",
        "    operational_pc_data = pd.read_csv('/content/OperationalPC.csv')\n",
        "    vehicle_class_data = pd.read_csv('/content/Vehicle Class - All.csv')\n",
        "    return ev_maker_data, ev_category_data, ev_sales_data, operational_pc_data, vehicle_class_data\n",
        "\n",
        "# Load data\n",
        "ev_maker_data, ev_category_data, ev_sales_data, operational_pc_data, vehicle_class_data = load_data()\n",
        "\n",
        "# Standardize column names\n",
        "ev_sales_data.columns = ev_sales_data.columns.str.strip().str.lower()\n",
        "ev_category_data.columns = ev_category_data.columns.str.strip().str.lower()\n",
        "vehicle_class_data.columns = vehicle_class_data.columns.str.strip().str.lower()\n",
        "\n",
        "# Reshape sales data from wide to long format\n",
        "ev_sales_data_melted = ev_sales_data.melt(id_vars=['maker', 'cat'],\n",
        "                                          var_name='year',\n",
        "                                          value_name='sales')\n",
        "ev_sales_data_melted['year'] = ev_sales_data_melted['year'].astype(int)\n",
        "\n",
        "# Streamlit App\n",
        "st.set_page_config(page_title=\"EV Data Explorer\", layout=\"wide\")\n",
        "\n",
        "# Sidebar Toggle\n",
        "if 'show_filters' not in st.session_state:\n",
        "    st.session_state['show_filters'] = False\n",
        "\n",
        "def toggle_filters():\n",
        "    st.session_state['show_filters'] = not st.session_state['show_filters']\n",
        "\n",
        "# Logo as button to toggle filters\n",
        "st.sidebar.image(\"/content/logo.jpg\", width=200)\n",
        "if st.sidebar.button(\"🔍 Click Logo to Show/Hide Filters\"):\n",
        "    toggle_filters()\n",
        "\n",
        "if st.session_state['show_filters']:\n",
        "    st.sidebar.header(\"Filter Options\")\n",
        "    selected_maker = st.sidebar.selectbox(\"Select EV Maker\", ['All'] + list(ev_sales_data_melted['maker'].unique()))\n",
        "    selected_year = st.sidebar.slider(\"Select Year\", int(ev_sales_data_melted['year'].min()), int(ev_sales_data_melted['year'].max()), int(ev_sales_data_melted['year'].max()))\n",
        "    selected_category = st.sidebar.selectbox(\"Select Vehicle Category\", ['All'] + list(ev_sales_data_melted['cat'].unique()))\n",
        "    selected_vehicle_class = st.sidebar.selectbox(\"Select Vehicle Class\", ['All'] + list(vehicle_class_data['vehicle class'].unique()))\n",
        "\n",
        "# Main Title\n",
        "st.title(\"🔋 Electric Vehicle Insights Dashboard\")\n",
        "st.markdown(\"Explore trends, sales, and insights in the EV market with interactive visualizations.\")\n",
        "\n",
        "# Apply filters\n",
        "filtered_sales = ev_sales_data_melted[(ev_sales_data_melted['year'] == selected_year)] if st.session_state['show_filters'] else ev_sales_data_melted\n",
        "if st.session_state['show_filters'] and selected_maker != 'All':\n",
        "    filtered_sales = filtered_sales[filtered_sales['maker'] == selected_maker]\n",
        "if st.session_state['show_filters'] and selected_category != 'All':\n",
        "    filtered_sales = filtered_sales[filtered_sales['cat'] == selected_category]\n",
        "\n",
        "filtered_vehicle_class = vehicle_class_data.copy()\n",
        "if st.session_state['show_filters'] and selected_vehicle_class != 'All':\n",
        "    filtered_vehicle_class = filtered_vehicle_class[filtered_vehicle_class['vehicle class'] == selected_vehicle_class]\n",
        "\n",
        "# KPI 1: EV Sales Over Time\n",
        "st.subheader(\"📈 EV Sales Over Time\")\n",
        "fig1 = px.bar(filtered_sales, x='year', y='sales', color='maker', title=f\"EV Sales Over Time\")\n",
        "st.plotly_chart(fig1, use_container_width=True)\n",
        "\n",
        "# KPI 2: Sales Distribution by Category for Selected Year\n",
        "st.subheader(f\"📊 Sales Distribution by Vehicle Category in {selected_year}\")\n",
        "fig2 = px.bar(filtered_sales, x='cat', y='sales', title=f\"EV Sales Distribution in {selected_year}\")\n",
        "st.plotly_chart(fig2, use_container_width=True)\n",
        "\n",
        "# KPI 3: Top 10 EV Makers by Sales in Selected Year\n",
        "st.subheader(f\"🏆 Top 10 EV Makers by Sales in {selected_year}\")\n",
        "top_makers = filtered_sales.groupby('maker')['sales'].sum().nlargest(10).reset_index()\n",
        "fig3 = px.bar(top_makers, x='maker', y='sales', title=f\"Top 10 EV Makers in {selected_year}\")\n",
        "st.plotly_chart(fig3, use_container_width=True)\n",
        "\n",
        "# KPI 4: Vehicle Class Distribution\n",
        "st.subheader(\"🚗 EV Vehicle Class Distribution\")\n",
        "fig4 = px.bar(filtered_vehicle_class, x='vehicle class', y='total registration', title=\"Distribution of EV Vehicle Classes\")\n",
        "st.plotly_chart(fig4, use_container_width=True)\n",
        "\n",
        "# KPI 5: Yearly Sales Trend for All Makers\n",
        "st.subheader(\"📊 Yearly Sales Trend for All EV Makers\")\n",
        "fig5 = px.bar(ev_sales_data_melted.groupby(['year', 'maker'])['sales'].sum().reset_index(), x='year', y='sales', color='maker', title=\"Yearly Sales Trend for All EV Makers\")\n",
        "st.plotly_chart(fig5, use_container_width=True)\n",
        "\n",
        "# KPI 6: EV Market Share by Maker in Selected Year\n",
        "st.subheader(f\"📌 EV Market Share by Maker in {selected_year}\")\n",
        "market_share = filtered_sales.groupby('maker')['sales'].sum().reset_index()\n",
        "fig6 = px.pie(market_share, names='maker', values='sales', title=f\"Market Share of EV Makers in {selected_year}\")\n",
        "st.plotly_chart(fig6, use_container_width=True)\n",
        "\n",
        "# KPI 7: Growth in Sales Compared to Previous Year\n",
        "st.subheader(\"📈 Year-over-Year Sales Growth\")\n",
        "ev_sales_data_melted['prev_year_sales'] = ev_sales_data_melted.groupby(['maker', 'cat'])['sales'].shift(1)\n",
        "ev_sales_data_melted['growth'] = ((ev_sales_data_melted['sales'] - ev_sales_data_melted['prev_year_sales']) / ev_sales_data_melted['prev_year_sales']) * 100\n",
        "fig7 = px.bar(ev_sales_data_melted.dropna(), x='year', y='growth', color='maker', title=\"Year-over-Year Sales Growth\")\n",
        "st.plotly_chart(fig7, use_container_width=True)\n",
        "\n",
        "# KPI 8: Line Chart for EV Sales Trend\n",
        "st.subheader(\"📉 EV Sales Trend Over Years\")\n",
        "fig8 = px.line(ev_sales_data_melted.groupby('year')['sales'].sum().reset_index(), x='year', y='sales', title=\"EV Sales Trend Over Years\", markers=True)\n",
        "st.plotly_chart(fig8, use_container_width=True)\n",
        "\n",
        "# Additional insights\n",
        "st.markdown(\"### 🔎 Explore the Data\")\n",
        "st.dataframe(filtered_sales)\n"
      ]
    },
    {
      "cell_type": "code",
      "source": [
        "!pip install streamlit pandas plotly\n"
      ],
      "metadata": {
        "id": "ehBQfSHsvLkS"
      },
      "execution_count": null,
      "outputs": []
    },
    {
      "cell_type": "code",
      "source": [],
      "metadata": {
        "id": "erDEFZ6Wy5qk"
      },
      "execution_count": null,
      "outputs": []
    }
  ],
  "metadata": {
    "colab": {
      "provenance": [],
      "authorship_tag": "ABX9TyOg1oMaHaJo6HvpQLft6v17",
      "include_colab_link": true
    },
    "kernelspec": {
      "display_name": "Python 3",
      "name": "python3"
    },
    "language_info": {
      "name": "python"
    }
  },
  "nbformat": 4,
  "nbformat_minor": 0
}